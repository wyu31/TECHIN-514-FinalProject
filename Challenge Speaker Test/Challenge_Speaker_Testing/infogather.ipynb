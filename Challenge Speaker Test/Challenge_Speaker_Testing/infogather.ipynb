{
 "cells": [
  {
   "cell_type": "code",
   "execution_count": 4,
   "metadata": {},
   "outputs": [
    {
     "name": "stdout",
     "output_type": "stream",
     "text": [
      "Sample Rate: 32000 Hz\n"
     ]
    }
   ],
   "source": [
    "import wave\n",
    "\n",
    "# Replace 'your_audio_file.wav' with the path to your actual WAV file\n",
    "with wave.open('train32_v.wav', 'r') as wav_file:\n",
    "    sample_rate = wav_file.getframerate()\n",
    "    print(f\"Sample Rate: {sample_rate} Hz\")"
   ]
  },
  {
   "cell_type": "code",
   "execution_count": 1,
   "metadata": {},
   "outputs": [
    {
     "name": "stdout",
     "output_type": "stream",
     "text": [
      "Sample Rate: 44100 Hz\n"
     ]
    }
   ],
   "source": [
    "import wave\n",
    "\n",
    "# Replace 'your_audio_file.wav' with the path to your actual WAV file\n",
    "with wave.open('Snare_Drum.wav', 'r') as wav_file:\n",
    "    sample_rate = wav_file.getframerate()\n",
    "    print(f\"Sample Rate: {sample_rate} Hz\")"
   ]
  },
  {
   "cell_type": "code",
   "execution_count": 2,
   "metadata": {},
   "outputs": [
    {
     "name": "stdout",
     "output_type": "stream",
     "text": [
      "Sample Rate: 44100 Hz\n"
     ]
    }
   ],
   "source": [
    "import wave\n",
    "\n",
    "# Replace 'your_audio_file.wav' with the path to your actual WAV file\n",
    "with wave.open('Hi_Hat.WAV', 'r') as wav_file:\n",
    "    sample_rate = wav_file.getframerate()\n",
    "    print(f\"Sample Rate: {sample_rate} Hz\")"
   ]
  },
  {
   "cell_type": "code",
   "execution_count": 3,
   "metadata": {},
   "outputs": [
    {
     "name": "stdout",
     "output_type": "stream",
     "text": [
      "Sample Rate: 44100 Hz\n"
     ]
    }
   ],
   "source": [
    "import wave\n",
    "\n",
    "# Replace 'your_audio_file.wav' with the path to your actual WAV file\n",
    "with wave.open('Bass_Drum.WAV', 'r') as wav_file:\n",
    "    sample_rate = wav_file.getframerate()\n",
    "    print(f\"Sample Rate: {sample_rate} Hz\")"
   ]
  },
  {
   "cell_type": "code",
   "execution_count": 6,
   "metadata": {},
   "outputs": [
    {
     "name": "stdout",
     "output_type": "stream",
     "text": [
      "Sample Rate: 44100 Hz\n"
     ]
    }
   ],
   "source": [
    "import wave\n",
    "\n",
    "# Replace 'your_audio_file.wav' with the path to your actual WAV file\n",
    "with wave.open('Crash_Cymbal.WAV', 'r') as wav_file:\n",
    "    sample_rate = wav_file.getframerate()\n",
    "    print(f\"Sample Rate: {sample_rate} Hz\")"
   ]
  }
 ],
 "metadata": {
  "kernelspec": {
   "display_name": "py",
   "language": "python",
   "name": "python3"
  },
  "language_info": {
   "codemirror_mode": {
    "name": "ipython",
    "version": 3
   },
   "file_extension": ".py",
   "mimetype": "text/x-python",
   "name": "python",
   "nbconvert_exporter": "python",
   "pygments_lexer": "ipython3",
   "version": "3.11.5"
  }
 },
 "nbformat": 4,
 "nbformat_minor": 2
}
